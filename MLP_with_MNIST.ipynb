{
  "nbformat": 4,
  "nbformat_minor": 0,
  "metadata": {
    "colab": {
      "name": "CS445 Programming 1.ipynb",
      "provenance": [],
      "collapsed_sections": []
    },
    "kernelspec": {
      "name": "python3",
      "display_name": "Python 3"
    },
    "language_info": {
      "name": "python"
    }
  },
  "cells": [
    {
      "cell_type": "markdown",
      "source": [
        "# Library Used"
      ],
      "metadata": {
        "id": "4RRwmPk8ZTle"
      }
    },
    {
      "cell_type": "code",
      "execution_count": 1,
      "metadata": {
        "id": "8eM02eSmZSFw"
      },
      "outputs": [],
      "source": [
        "import pandas as pd\n",
        "import numpy as np\n",
        "import matplotlib.pyplot as plt # plotting\n",
        "from sklearn.utils import shuffle # shuffling for Experiment 3\n",
        "from sklearn import metrics # creating confusion matrix"
      ]
    },
    {
      "cell_type": "markdown",
      "source": [
        "# Read Data"
      ],
      "metadata": {
        "id": "B_2VNAkeZWWD"
      }
    },
    {
      "cell_type": "code",
      "source": [
        "train = pd.read_csv(\"mnist_train.csv\")\n",
        "test = pd.read_csv(\"mnist_test.csv\")"
      ],
      "metadata": {
        "id": "f9yZ-C79bAjq"
      },
      "execution_count": 30,
      "outputs": []
    },
    {
      "cell_type": "markdown",
      "source": [
        "# Convert datasets from pandas *dataframe* to numpy *array*"
      ],
      "metadata": {
        "id": "b2pIgAw1N2R7"
      }
    },
    {
      "cell_type": "code",
      "execution_count": 31,
      "metadata": {
        "id": "ucQCKdpS8ujt"
      },
      "outputs": [],
      "source": [
        "train = train.to_numpy() \n",
        "test = test.to_numpy()"
      ]
    },
    {
      "cell_type": "markdown",
      "source": [
        "# Shuffling and randomly pick a specific amounts of data for Experiment #3"
      ],
      "metadata": {
        "id": "l2nAU-0tGAGn"
      }
    },
    {
      "cell_type": "code",
      "source": [
        "shuffled_train = shuffle(train)\n",
        "\n",
        "class_count = np.array([0 for k in range(10)])\n",
        "\n",
        "train_50 = []\n",
        "for i in range(len(shuffled_train)):\n",
        "    if len(train_50) == 30000:\n",
        "        break \n",
        "    if class_count[shuffled_train[i,0]] <= 3000:\n",
        "        class_count[shuffled_train[i,0]] += 1\n",
        "        train_50.append(shuffled_train[i,:])\n",
        "\n",
        "train = np.array(train_50)"
      ],
      "metadata": {
        "id": "pIympRLn6mV-"
      },
      "execution_count": 29,
      "outputs": []
    },
    {
      "cell_type": "markdown",
      "source": [
        "# Seperate the label columns and make bias columns\n",
        "In other words, separate the train x and the label column (train y, named train_label in the assignment) and updated the train x by creating a bias column(bias is 1). Same process for the test data as well."
      ],
      "metadata": {
        "id": "l6pij60GZ2Ef"
      }
    },
    {
      "cell_type": "code",
      "execution_count": 32,
      "metadata": {
        "id": "Ey4b3q6mDFSQ"
      },
      "outputs": [],
      "source": [
        "train_label = np.array([train[i,0] for i in range (train.shape[0])]) \n",
        "test_label = np.array([test[i,0] for i in range (test.shape[0])])\n",
        "\n",
        "test_1d = test_label # test 1d will be used for creating the confusion matrix\n",
        "\n",
        "# change the first column as the bias column (1). Even though name is still label, now it's bias column\n",
        "train[:, 0] = 1 \n",
        "test[:, 0] = 1"
      ]
    },
    {
      "cell_type": "markdown",
      "source": [
        "# Change the label column \n",
        "Each output unit corresponds to one of the 10 classes ('0' to '9'). Set the target value $t_k$ for output unit $k$ to 0.9 if the input class is the $k$ th class, 0.1 otherwise."
      ],
      "metadata": {
        "id": "Iv-uKKTMPT-E"
      }
    },
    {
      "cell_type": "code",
      "source": [
        "def change_target_value(x):\n",
        "  t = []\n",
        "\n",
        "  for i in range(len(x)):\n",
        "    target = np.array([0.1 for i in range(10)])\n",
        "    for j in range(10):\n",
        "      if (j == x[i]):\n",
        "        target[j] = 0.9\n",
        "        break\n",
        "    t.append(target) \n",
        "\n",
        "  t = np.array(t)\n",
        "  return t"
      ],
      "metadata": {
        "id": "yFvZ1Diz9nM2"
      },
      "execution_count": 33,
      "outputs": []
    },
    {
      "cell_type": "code",
      "source": [
        "train_target = change_target_value(train_label)\n",
        "test_target = change_target_value(test_label)"
      ],
      "metadata": {
        "id": "MCltB65AIDfr"
      },
      "execution_count": 34,
      "outputs": []
    },
    {
      "cell_type": "markdown",
      "source": [
        "# Preprocessing\n",
        "Scale the data values to be between 0 and 1 by dividing by 255"
      ],
      "metadata": {
        "id": "4nEdpTFUQCwE"
      }
    },
    {
      "cell_type": "code",
      "execution_count": 35,
      "metadata": {
        "id": "4-Qu02W4N6kR"
      },
      "outputs": [],
      "source": [
        "train = np.divide(train, 255) \n",
        "test = np.divide(test, 255) "
      ]
    },
    {
      "cell_type": "markdown",
      "source": [
        "# Initialize parameters"
      ],
      "metadata": {
        "id": "vVWYuvcb62e_"
      }
    },
    {
      "cell_type": "code",
      "execution_count": 36,
      "metadata": {
        "id": "9q70w4mguD34"
      },
      "outputs": [],
      "source": [
        "n = 20 # hidden units\n",
        "\n",
        "alpha = 0.9 # momentum\n",
        "\n",
        "# choose random weights from input to h \n",
        "w1 = np.random.uniform(low=-0.05, high=0.05, size=(n,785)) \n",
        "w2 = np.random.uniform(low=-0.05, high=0.05, size=(10,n+1))\n",
        "\n",
        "w1_T = np.transpose(w1)\n",
        "w2_T = np.transpose(w2)\n",
        "\n",
        "# the previous weights to update weights\n",
        "previous_weight1 = np.zeros((785, n))\n",
        "previous_weight2 = np.zeros((n+1, 10))\n",
        "\n",
        "eda =  0.1 # learning rate \n",
        "epochs = 50\n",
        "train_accurate = 0 # count to calculate accuracy\n",
        "test_accurate = 0\n",
        "accuracy_train = 0.0 \n",
        "accuracy_test = 0.0\n",
        "train_accuracy_array = [] \n",
        "test_accuracy_array = [] "
      ]
    },
    {
      "cell_type": "markdown",
      "source": [
        "# Network Classification (Forward Propagation)\n",
        "1. $h = W_1 @ x$\n",
        "  - compute the activation $h_j$ of each hidden unit $j$\n",
        "2. $y = W_2 @ h$\n",
        "  - compute the activation $y_k$ of each output unit $k$\n",
        "\n",
        "# Network Training (Back Propagation)\n",
        "1. Errors\n",
        "  - for each output unit $k$, calculate error term $δ_k$\n",
        "    - $\\delta_k ← y_k(1-y_k)(t_k-y_k)$\n",
        "\n",
        "  - for each hidden unit $j$, calculate error term $\\delta_j$\n",
        "    - $\\delta_j \\leftarrow h_j(1-h_j)(∑\\limits_{kϵoutput units}{} W_{kj}\\delta_k)$\n",
        "2. Update Weights\n",
        "  - Hidden to Output layer ($W2$)\n",
        "    - $w_{kj} ← w_{kj} - Δw_{kj}$\n",
        "      where $Δw_{kj}$ = ηδ_{k}h_{j} + α $Δw_{kj}^{t-1}$)\n",
        "  - Input to Hidden layer ($W1$)\n",
        "    - $w_{ji} ← w_{ji} - Δw_{ji}$ where $Δw_{ji}$ = ηδ_{j}x_{i} + α $Δw_{ji}^{t-1}$)"
      ],
      "metadata": {
        "id": "aalG-CCTvOxC"
      }
    },
    {
      "cell_type": "code",
      "source": [
        "# sigmoid function\n",
        "def sigmoid(x):\n",
        "  return 1 / (1 + np.exp(-x))"
      ],
      "metadata": {
        "id": "4nOFwxaB7DiC"
      },
      "execution_count": 37,
      "outputs": []
    },
    {
      "cell_type": "code",
      "source": [
        "for epoch in range(epochs):\n",
        "\n",
        "    for i in range(0, train.shape[0]):\n",
        "        h = w1 @ train[i,:] # get the hidden unit\n",
        "\n",
        "        # use the sigmoid fn for the activation\n",
        "        h = sigmoid(h)\n",
        "\n",
        "        # append 1 for bias -> now h is (n+1) x 1\n",
        "        h = np.append(h, [1], axis = 0) \n",
        "\n",
        "        h = h.reshape(n+1, 1)\n",
        "\n",
        "        y = w2 @ h # get the output unit\n",
        "        \n",
        "        # use the sigmoid fn for the activation\n",
        "        y = sigmoid(y)\n",
        "        y = y.reshape(10,1)\n",
        "\n",
        "        # calculate error terms for output unit\n",
        "        i_o = np.ones((y.shape[0], 1)) # the column vector with 1s for the output unit\n",
        "        del_y = y * (i_o - y) * (train_target[i,:].reshape(10,1) - y)  \n",
        "\n",
        "        # calculate error terms for hidden unit\n",
        "        i_h = np.ones((h.shape[0], 1)) # the column vector with 1s for the hidden unit\n",
        "        del_j = h * (i_h - h) * (w2.T @ del_y) # (n+1) x 1\n",
        "\n",
        "        # note that the last element is 1 - bias, and our bias is one, so 1-bias (1-1) should be zero. \n",
        "        # thus we can remove that zero cuz we want to get n x 1 matrix instead of n+1 x 1 matrix\n",
        "        del_j = np.delete(del_j, (len(del_j)-1)) # now delta j (error term j) is n x 1\n",
        "\n",
        "        # update weight w2 (hidden to output edges)\n",
        "        change_weight2 = (eda * h * del_y.T) + (alpha * previous_weight2) \n",
        "        previous_weight2 = np.copy(change_weight2)\n",
        "        w2_T += change_weight2 ###################################### - or +?\n",
        "\n",
        "        # update weight w1 (input to hidden edges)\n",
        "        change_weight1 = (eda * train[i,:].reshape(train.shape[1], 1) * del_j) + (alpha * previous_weight1)\n",
        "        previous_weight1 = np.copy(change_weight1)\n",
        "        w1_T += change_weight1\n",
        "\n",
        "\n",
        "    for i in range(0, train.shape[0]):\n",
        "        h = w1 @ train[i,:] # get the hidden unit\n",
        "\n",
        "        # use the sigmoid fn for the activation\n",
        "        h = sigmoid(h)\n",
        "\n",
        "        # append 1 for bias -> now h is (n+1) x 1\n",
        "        h = np.append(h, [1], axis = 0) \n",
        "\n",
        "        h = h.reshape(n+1, 1)\n",
        "\n",
        "        y = w2 @ h # get the output unit\n",
        "        \n",
        "        # use the sigmoid fn for the activation\n",
        "        y = sigmoid(y)\n",
        "        y = y.reshape(10,1)\n",
        "        \n",
        "        if np.argmax(y) == np.argmax(train_target[i]):\n",
        "            train_accurate += 1\n",
        "            \n",
        "    if epoch == epochs-1:\n",
        "        pred = np.array([0 for k in range(len(test))]) # store the predictions\n",
        "\n",
        "    for i in range(0, test.shape[0]):\n",
        "        h = w1 @ test[i,:] # get the hidden unit\n",
        "\n",
        "        # use the sigmoid fn for the activation\n",
        "        h = sigmoid(h)\n",
        "\n",
        "        # append 1 for bias -> now h is (n+1) x 1\n",
        "        h = np.append(h, [1], axis = 0) \n",
        "\n",
        "        h = h.reshape(n+1, 1)\n",
        "\n",
        "        y = w2 @ h # get the output unit\n",
        "        \n",
        "        # use the sigmoid fn for the activation\n",
        "        y = sigmoid(y)\n",
        "        y = y.reshape(10,1)\n",
        "        \n",
        "        # store the value to pred for confusion matrix\n",
        "        if epoch == epochs-1:\n",
        "            pred[i] = np.argmax(y)\n",
        "\n",
        "        if np.argmax(y) == np.argmax(test_target[i]):\n",
        "            test_accurate += 1\n",
        "        \n",
        "                    \n",
        "    \n",
        "    accuracy_train = train_accurate / train.shape[0]\n",
        "    accuracy_test = test_accurate / test.shape[0]\n",
        "    train_accuracy_array.append(100 * accuracy_train) \n",
        "    test_accuracy_array.append(100 * accuracy_test)\n",
        "\n",
        "    train_accurate = 0 # for next iteration\n",
        "    test_accurate = 0"
      ],
      "metadata": {
        "id": "sH89LpERvQXp"
      },
      "execution_count": 38,
      "outputs": []
    },
    {
      "cell_type": "markdown",
      "source": [
        "# Create confusion matrix"
      ],
      "metadata": {
        "id": "xAWvjzV-d0CF"
      }
    },
    {
      "cell_type": "code",
      "source": [
        "confusion_matrix = metrics.confusion_matrix(test_1d, pred)\n",
        "print(confusion_matrix)"
      ],
      "metadata": {
        "id": "Cv1vyfracipo",
        "colab": {
          "base_uri": "https://localhost:8080/"
        },
        "outputId": "2f87777d-bcb9-4dc3-fd86-8fafa356ac5c"
      },
      "execution_count": 39,
      "outputs": [
        {
          "output_type": "stream",
          "name": "stdout",
          "text": [
            "[[ 950    0    7    2    1    2    7    1    6    4]\n",
            " [   0 1109    3    4    1    1    5    0    7    5]\n",
            " [   2    1  962   11    6    2   10    6   22   10]\n",
            " [   3    0   24  937    0   14    3    5   11   13]\n",
            " [   0    1    4    1  912    0   11    0    4   49]\n",
            " [   2    2    8   36    2  800   11    6   15   10]\n",
            " [   7    5   13    1    3   15  905    0    6    3]\n",
            " [   0    5   22    2    4    1    0  964    9   21]\n",
            " [   5    1    8   14    8   23   10    4  882   19]\n",
            " [   4    5    2   10   18    6    0   10    9  945]]\n"
          ]
        }
      ]
    },
    {
      "cell_type": "markdown",
      "source": [
        "# Plot train and test accuracies"
      ],
      "metadata": {
        "id": "qEp4Xxf8d3Yn"
      }
    },
    {
      "cell_type": "code",
      "source": [
        "plt.suptitle(\"Experiment #1 n = 20\" )\n",
        "plt.title(\"20 hidden units\")\n",
        "plt.plot(train_accuracy_array, label = 'Train')\n",
        "plt.plot(test_accuracy_array, label = 'Test')\n",
        "plt.ylabel('Accuracy', fontsize = 10)\n",
        "plt.xlabel('Epoch', fontsize=10)\n",
        "plt.legend()\n",
        "plt.show()"
      ],
      "metadata": {
        "id": "6e1JUl_CvX7M",
        "colab": {
          "base_uri": "https://localhost:8080/",
          "height": 308
        },
        "outputId": "83c882d3-9c30-46fb-8d19-fce4ce920491"
      },
      "execution_count": 41,
      "outputs": [
        {
          "output_type": "display_data",
          "data": {
            "text/plain": [
              "<Figure size 432x288 with 1 Axes>"
            ],
            "image/png": "[encoded data removed]"
          },
          "metadata": {
            "needs_background": "light"
          }
        }
      ]
    }
  ]
}